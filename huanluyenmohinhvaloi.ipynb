{
  "cells": [
    {
      "cell_type": "markdown",
      "metadata": {
        "id": "view-in-github",
        "colab_type": "text"
      },
      "source": [
        "<a href=\"https://colab.research.google.com/github/viett887g/huanluyenmohinhbaloi/blob/main/huanluyenmohinhvaloi.ipynb\" target=\"_parent\"><img src=\"https://colab.research.google.com/assets/colab-badge.svg\" alt=\"Open In Colab\"/></a>"
      ]
    },
    {
      "cell_type": "code",
      "source": [
        "from sklearn.model_selection import train_test_split\n",
        "from sklearn.metrics import accuracy_score\n",
        "from sklearn.metrics import top_k_accuracy_score\n",
        "from sklearn.metrics import balanced_accuracy_score\n",
        "from sklearn.metrics import recall_score\n",
        "from sklearn.metrics import f1_score"
      ],
      "metadata": {
        "id": "DVj3JdWDoqgr"
      },
      "id": "DVj3JdWDoqgr",
      "execution_count": null,
      "outputs": []
    },
    {
      "cell_type": "code",
      "source": [
        "from sklearn.metrics import precision_score"
      ],
      "metadata": {
        "id": "739Oh2jkvkWJ"
      },
      "id": "739Oh2jkvkWJ",
      "execution_count": null,
      "outputs": []
    },
    {
      "cell_type": "code",
      "execution_count": null,
      "id": "d23b7aca",
      "metadata": {
        "id": "d23b7aca"
      },
      "outputs": [],
      "source": [
        "import numpy as  np\n",
        "import os"
      ]
    },
    {
      "cell_type": "code",
      "execution_count": null,
      "id": "47b6a3fc",
      "metadata": {
        "id": "47b6a3fc"
      },
      "outputs": [],
      "source": [
        "def readData(filePath: str, filename: str):\n",
        "    data = np.loadtxt(os.path.join(filePath, filename), delimiter = ',')\n",
        "    X = data[:,:-1]\n",
        "    y = data[:, -1]\n",
        "    m = X.shape[0]\n",
        "    n = X.shape[1]\n",
        "    X = np.reshape(X, (m,n))\n",
        "    y = np.reshape(y, (m,1))\n",
        "    #Them cot x0 = 1 vao X\n",
        "    x0 = np.ones((m,1))\n",
        "    X = np.column_stack([x0, X])\n",
        "    return X, y"
      ]
    },
    {
      "cell_type": "code",
      "execution_count": null,
      "id": "7aa03b30",
      "metadata": {
        "id": "7aa03b30"
      },
      "outputs": [],
      "source": [
        "def featureVectorScaling(data):\n",
        "    avg = np.mean(data)\n",
        "    sln = data.max()\n",
        "    snn = data.min()\n",
        "    data_scl = (data - avg)/(sln - snn)\n",
        "    print(data_scl[1])\n",
        "    return data_scl\n",
        "\n",
        "def normalizeData(X):\n",
        "    X_scl = X[:, 0]\n",
        "    for i in range(1, X.shape[1]):\n",
        "        scl = featureVectorScaling(X[:, i])\n",
        "        X_scl = np.column_stack([X_scl, scl])\n",
        "    return X_scl"
      ]
    },
    {
      "cell_type": "code",
      "execution_count": null,
      "id": "91b48718",
      "metadata": {
        "id": "91b48718"
      },
      "outputs": [],
      "source": [
        "def sigmoid(X, w):\n",
        "    result = 1/(1 + np.exp(-np.dot(X, w)))\n",
        "    return result"
      ]
    },
    {
      "cell_type": "code",
      "execution_count": null,
      "id": "164a50e5",
      "metadata": {
        "id": "164a50e5"
      },
      "outputs": [],
      "source": [
        "def loss(X, y, w):\n",
        "    m = y.shape[0]\n",
        "    result = (-1/m)*np.sum(np.dot(y.T, np.log(sigmoid(X, w))) + np.dot((1 - y).T, np.log(1 - sigmoid(X, w))))\n",
        "    return result"
      ]
    },
    {
      "cell_type": "code",
      "execution_count": null,
      "id": "42fea66f",
      "metadata": {
        "id": "42fea66f"
      },
      "outputs": [],
      "source": [
        "def gradient(X, y, w):\n",
        "    m = X.shape[0]\n",
        "    result = (1/m)*np.dot(X.T, sigmoid(X, w) - y)\n",
        "    return result"
      ]
    },
    {
      "cell_type": "code",
      "execution_count": null,
      "id": "65019a5b",
      "metadata": {
        "id": "65019a5b"
      },
      "outputs": [],
      "source": [
        "def gradientDescent(X, y, w, alpha, n_iters):\n",
        "    w_optimal = w.copy()\n",
        "    J_history = []\n",
        "    for i in range(n_iters):\n",
        "        w_optimal = w_optimal - alpha*gradient(X, y, w_optimal)\n",
        "        J_history.append(loss(X, y, w_optimal))\n",
        "    return w_optimal, J_history"
      ]
    },
    {
      "cell_type": "code",
      "source": [
        "def predict(y_pred):\n",
        "    return np.rint(y_pred) #lam tron neu lon hon 0.5 thanh 1 "
      ],
      "metadata": {
        "id": "TRrglQ_KoBHz"
      },
      "id": "TRrglQ_KoBHz",
      "execution_count": null,
      "outputs": []
    },
    {
      "cell_type": "markdown",
      "source": [
        "Hàm precision_score tính toán độ chính xác, phân số (mặc định) hoặc số lượng (chuẩn hóa = Sai) của các dự đoán đúng.\n",
        "\n",
        "Trong phân loại đa nhãn, hàm trả về độ chính xác của tập hợp con. Nếu toàn bộ tập hợp các nhãn được dự đoán cho một mẫu khớp hoàn toàn với tập hợp các nhãn thực, thì độ chính xác của tập hợp con là 1,0; nếu không thì nó là 0,0."
      ],
      "metadata": {
        "id": "1PI5dESfpchb"
      },
      "id": "1PI5dESfpchb"
    },
    {
      "cell_type": "markdown",
      "source": [
        "![image.png](data:image/png;base64,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)"
      ],
      "metadata": {
        "id": "Vs2G1Zs9pg8D"
      },
      "id": "Vs2G1Zs9pg8D"
    },
    {
      "cell_type": "code",
      "source": [
        "def acc_score(y, y_hat):\n",
        "    m = y.shape[0]\n",
        "    result = (1/m)*np.sum(y == y_hat)\n",
        "    return  result"
      ],
      "metadata": {
        "id": "FNIl207WpTI0"
      },
      "id": "FNIl207WpTI0",
      "execution_count": null,
      "outputs": []
    },
    {
      "cell_type": "markdown",
      "source": [
        "Top-k accuracy score\n",
        "\n",
        "Hàm top_k_accuracy_score là một tổng quát của độ chính xác. Sự khác biệt là một dự đoán được coi là đúng miễn là nhãn đúng được kết hợp với một trong k điểm dự đoán cao nhất. độ chính xác là trường hợp đặc biệt của k = 1.\n",
        "\n",
        "Hàm bao gồm các trường hợp phân loại nhị phân và đa thủy tinh nhưng không bao gồm trường hợp đa nhãn"
      ],
      "metadata": {
        "id": "SRnNs-mpppjm"
      },
      "id": "SRnNs-mpppjm"
    },
    {
      "cell_type": "markdown",
      "source": [
        "![image.png](data:image/png;base64,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)"
      ],
      "metadata": {
        "id": "s7TOc7gqp15R"
      },
      "id": "s7TOc7gqp15R"
    },
    {
      "cell_type": "code",
      "source": [
        "def top_k_acc(y,y_hat):\n",
        "  #m=y.shape[0]\n",
        "  #dit=(1/m)*np.sum(np.sum(y==y_hat))\n",
        "  dit=top_k_accuracy_score(y, y_hat, k=3)\n",
        "  return dit"
      ],
      "metadata": {
        "id": "Yt4J32ajpxc4"
      },
      "id": "Yt4J32ajpxc4",
      "execution_count": null,
      "outputs": []
    },
    {
      "cell_type": "markdown",
      "source": [
        "Hàm balance_accuracy_score tính toán độ chính xác cân bằng, giúp tránh các ước tính hiệu suất tăng cao trên các tập dữ liệu không cân bằng. Nó là trung bình vĩ mô của điểm thu hồi trên mỗi lớp hoặc tương đương, độ chính xác thô trong đó mỗi mẫu được tính theo tỷ lệ nghịch đảo của lớp thực của nó. Vì vậy, đối với các tập dữ liệu cân bằng, điểm số bằng với độ chính xác.\n",
        "\n",
        "Trong trường hợp nhị phân, độ chính xác cân bằng bằng giá trị trung bình cộng của độ nhạy (tỷ lệ dương tính thực) và độ đặc hiệu (tỷ lệ âm tính thực), hoặc diện tích dưới đường cong ROC với các dự đoán nhị phân thay vì điểm số:"
      ],
      "metadata": {
        "id": "HB334WncsBf6"
      },
      "id": "HB334WncsBf6"
    },
    {
      "cell_type": "markdown",
      "source": [
        "![image.png](data:image/png;base64,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)"
      ],
      "metadata": {
        "id": "U4IHZz59s6PB"
      },
      "id": "U4IHZz59s6PB"
    },
    {
      "cell_type": "markdown",
      "source": [
        "![image.png](data:image/png;base64,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)"
      ],
      "metadata": {
        "id": "CYcsX4Gwr7DD"
      },
      "id": "CYcsX4Gwr7DD"
    },
    {
      "cell_type": "code",
      "source": [
        "def balanced_acc(y,y_hat):\n",
        "  me=balanced_accuracy_score(y, y_hat)\n",
        "  return me"
      ],
      "metadata": {
        "id": "9AzUTxoIr7nq"
      },
      "id": "9AzUTxoIr7nq",
      "execution_count": null,
      "outputs": []
    },
    {
      "cell_type": "markdown",
      "source": [
        "Nói một cách trực quan, độ chính xác là khả năng của bộ phân loại không gắn nhãn là dương tính đối với mẫu âm và khả năng thu hồi là khả năng của bộ phân loại để tìm tất cả các mẫu dương tính."
      ],
      "metadata": {
        "id": "6Eq8jz4g4fHw"
      },
      "id": "6Eq8jz4g4fHw"
    },
    {
      "cell_type": "code",
      "source": [
        "def precision(y,y_hat,average): \n",
        "  return precision_score(y, y_hat,average='macro')"
      ],
      "metadata": {
        "id": "3Wj_X5tlv-D6"
      },
      "id": "3Wj_X5tlv-D6",
      "execution_count": null,
      "outputs": []
    },
    {
      "cell_type": "markdown",
      "source": [
        "Độ thu hồi là tỷ số tp / (tp + fn) trong đó tp là số lần dương tính đúng và fn là số lần âm tính giả. Việc thu hồi là khả năng trực quan của bộ phân loại để tìm tất cả các mẫu dương tính.\n",
        "\n",
        "Giá trị tốt nhất là 1 và giá trị kém nhất là 0"
      ],
      "metadata": {
        "id": "-d4XWeZw4Rqf"
      },
      "id": "-d4XWeZw4Rqf"
    },
    {
      "cell_type": "code",
      "source": [
        "def recallscore(y,y_hat,average):\n",
        "  return recall_score(y, y_hat, average='macro')"
      ],
      "metadata": {
        "id": "SBVX_-RfzsUZ"
      },
      "id": "SBVX_-RfzsUZ",
      "execution_count": null,
      "outputs": []
    },
    {
      "cell_type": "markdown",
      "source": [
        "Điểm F1 có thể được hiểu là giá trị trung bình hài hòa của độ chính xác và độ thu hồi, trong đó điểm F1 đạt giá trị tốt nhất là 1 và điểm kém nhất là 0. Đóng góp tương đối của độ chính xác và thu hồi vào điểm F1 là bằng nhau. Công thức cho điểm F1 là:"
      ],
      "metadata": {
        "id": "vqbTyuOJ0yd3"
      },
      "id": "vqbTyuOJ0yd3"
    },
    {
      "cell_type": "markdown",
      "source": [
        "![image.png](data:image/png;base64,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)"
      ],
      "metadata": {
        "id": "BndPGIYd0qgH"
      },
      "id": "BndPGIYd0qgH"
    },
    {
      "cell_type": "code",
      "source": [
        "def hamF1(y,y_hat,average):\n",
        "  return 2*(np.dot(precision(y,y_hat,average),recallscore(y,y_hat,average)))/(precision(y,y_hat,average)+recallscore(y,y_hat,average))"
      ],
      "metadata": {
        "id": "y_I1ZwvTzVCm"
      },
      "id": "y_I1ZwvTzVCm",
      "execution_count": null,
      "outputs": []
    },
    {
      "cell_type": "code",
      "execution_count": null,
      "id": "60905f5f",
      "metadata": {
        "id": "60905f5f",
        "outputId": "903c0500-e3b0-4716-a070-9a6e92ee992d",
        "colab": {
          "base_uri": "https://localhost:8080/"
        }
      },
      "outputs": [
        {
          "output_type": "stream",
          "name": "stdout",
          "text": [
            "-0.5067801656080071\n",
            "-0.3270580397857178\n",
            "Chỉ số Accuracy:  0.3333333333333333\n",
            "Sử dụng sklearn, Acc:  0.3333333333333333\n",
            ". . . . . . . ..  .\n",
            "\n",
            "Chỉ số top_k_accuracy_score 1.0\n",
            "Sử dụng sklearn top K 1.0\n",
            ". . . . . . . ..  .\n",
            "\n",
            "Chỉ số balance_accuracy_score 0.5\n",
            "Sử dụng sklearn balance_accuracy_score 0.5\n",
            ". . . . . . . ..  .\n",
            "\n",
            "Chỉ số precision_score  0.16666666666666666\n",
            "Sử dụng sklearn precision_score 0.16666666666666666\n",
            ". . . . . . . ..  .\n",
            "\n",
            "Chỉ số recall_score 0.5\n",
            " Sử dụng sklearn recall_score 0.5\n",
            ". . . . . . . ..  .\n",
            "\n",
            "Chỉ số f1_score  0.25\n",
            "Sử dụng sklearn f1_score 0.25\n",
            ". . . . . . . ..  .\n",
            "\n"
          ]
        },
        {
          "output_type": "stream",
          "name": "stderr",
          "text": [
            "/usr/local/lib/python3.7/dist-packages/ipykernel_launcher.py:3: RuntimeWarning: divide by zero encountered in log\n",
            "  This is separate from the ipykernel package so we can avoid doing imports until\n",
            "/usr/local/lib/python3.7/dist-packages/sklearn/metrics/_ranking.py:1751: UndefinedMetricWarning: 'k' (2) greater than or equal to 'n_classes' (2) will result in a perfect score and is therefore meaningless.\n",
            "  UndefinedMetricWarning,\n",
            "/usr/local/lib/python3.7/dist-packages/sklearn/metrics/_ranking.py:1751: UndefinedMetricWarning: 'k' (3) greater than or equal to 'n_classes' (2) will result in a perfect score and is therefore meaningless.\n",
            "  UndefinedMetricWarning,\n",
            "/usr/local/lib/python3.7/dist-packages/sklearn/metrics/_classification.py:1318: UndefinedMetricWarning: Precision is ill-defined and being set to 0.0 in labels with no predicted samples. Use `zero_division` parameter to control this behavior.\n",
            "  _warn_prf(average, modifier, msg_start, len(result))\n",
            "/usr/local/lib/python3.7/dist-packages/sklearn/metrics/_classification.py:1318: UndefinedMetricWarning: Precision is ill-defined and being set to 0.0 in labels with no predicted samples. Use `zero_division` parameter to control this behavior.\n",
            "  _warn_prf(average, modifier, msg_start, len(result))\n",
            "/usr/local/lib/python3.7/dist-packages/sklearn/metrics/_classification.py:1318: UndefinedMetricWarning: Precision is ill-defined and being set to 0.0 in labels with no predicted samples. Use `zero_division` parameter to control this behavior.\n",
            "  _warn_prf(average, modifier, msg_start, len(result))\n",
            "/usr/local/lib/python3.7/dist-packages/sklearn/metrics/_classification.py:1318: UndefinedMetricWarning: Precision is ill-defined and being set to 0.0 in labels with no predicted samples. Use `zero_division` parameter to control this behavior.\n",
            "  _warn_prf(average, modifier, msg_start, len(result))\n"
          ]
        }
      ],
      "source": [
        "def main():\n",
        "    X, y = readData('/content','ex2data1.txt')\n",
        "    X_scl = normalizeData(X)\n",
        "    n = X_scl.shape[1]\n",
        "    w = np.zeros((n, 1))\n",
        "    alpha = 0.01\n",
        "    n_iters = 2000\n",
        "    X_train, X_test, y_train, y_test = train_test_split(X, y,test_size=0.30,random_state=15)\n",
        "    w_opt, J_hist = gradientDescent(X_train, y_train, w, alpha, n_iters)\n",
        "    y_hat = predict(sigmoid(X_test, w_opt))\n",
        "    print('Chỉ số Accuracy: ', acc_score(y_test, y_hat))\n",
        "    print('Sử dụng sklearn, Acc: ', accuracy_score(y_test.flatten(), y_hat.flatten()))\n",
        "    print(\". . . . . . . ..  .\\n\")\n",
        "    print(\"Chỉ số top_k_accuracy_score\",top_k_accuracy_score(y_test, y_hat, k=2))\n",
        "    print(\"Sử dụng sklearn top K\",top_k_acc(y_test,y_hat))\n",
        "    print(\". . . . . . . ..  .\\n\")\n",
        "    print(\"Chỉ số balance_accuracy_score\", balanced_acc(y_test,y_hat))\n",
        "    print(\"Sử dụng sklearn balance_accuracy_score\",balanced_acc(y_test,y_hat))\n",
        "    print(\". . . . . . . ..  .\\n\")\n",
        "    print(\"Chỉ số precision_score \",precision_score(y_test, y_hat,average='macro'))\n",
        "    print(\"Sử dụng sklearn precision_score\",precision(y_test,y_hat,average='macro'))\n",
        "    print(\". . . . . . . ..  .\\n\")\n",
        "    print(\"Chỉ số recall_score\", recallscore(y_test, y_hat, average='macro'))\n",
        "    print(\" Sử dụng sklearn recall_score\",recall_score(y_test, y_hat, average='macro'))\n",
        "    print(\". . . . . . . ..  .\\n\")\n",
        "    print(\"Chỉ số f1_score \",hamF1(y_test,y_hat,average='macro'))\n",
        "    print(\"Sử dụng sklearn f1_score\",f1_score(y_test, y_hat, average='macro'))\n",
        "    print(\". . . . . . . ..  .\\n\")\n",
        "\n",
        "\n",
        "if __name__ == \"__main__\":\n",
        "    main()"
      ]
    }
  ],
  "metadata": {
    "kernelspec": {
      "display_name": "Python 3 (ipykernel)",
      "language": "python",
      "name": "python3"
    },
    "language_info": {
      "codemirror_mode": {
        "name": "ipython",
        "version": 3
      },
      "file_extension": ".py",
      "mimetype": "text/x-python",
      "name": "python",
      "nbconvert_exporter": "python",
      "pygments_lexer": "ipython3",
      "version": "3.9.7"
    },
    "colab": {
      "provenance": [],
      "include_colab_link": true
    }
  },
  "nbformat": 4,
  "nbformat_minor": 5
}